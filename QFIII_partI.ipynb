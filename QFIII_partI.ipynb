{
 "cells": [
  {
   "cell_type": "code",
   "execution_count": 1,
   "id": "6d997f7d-a6fc-46c6-8be8-9a9bc9e9d66c",
   "metadata": {
    "tags": []
   },
   "outputs": [],
   "source": [
    "import numpy as np\n",
    "import sympy as smp\n",
    "import matplotlib.pyplot as plt"
   ]
  },
  {
   "cell_type": "markdown",
   "id": "bf4084ad-b1a4-4d47-a8fa-cb8e27d7aa31",
   "metadata": {},
   "source": [
    "# QFIII exercises p1: QM basis - Linear algebra, POSTULATES, Variational principle and linear variational problem "
   ]
  },
  {
   "cell_type": "markdown",
   "id": "e9131486-1811-4511-833a-c21679c07e15",
   "metadata": {
    "tags": []
   },
   "source": [
    "# Mathematical basis"
   ]
  },
  {
   "cell_type": "markdown",
   "id": "3e5f1815-d314-4ed2-b2b0-b73bf9619da5",
   "metadata": {
    "tags": []
   },
   "source": [
    "## Matrices properties\n",
    "Definitions and properties of square ___matrices___\n",
    "* the _adjoint_ $\\mathbf A^{\\dagger}$ of a N x M matrix $\\mathbf A$ is \n",
    "$ \\left( \\mathbf A^{\\dagger}_{ij} \\right) = A_{ji}^* $\n",
    "* $\\mathbf A$ is _diagonal_ if $ A_{ij}= A_{ii} \\delta_{ij} $\n",
    "* _trace_ of a matrix $\\mathbf A$ is $ tr \\mathbf{A} = \\sum_i A_{ii} $\n",
    "* _inverse_ of a matrix $\\mathbf A$, i.e. $\\mathbf A^{-1}$ fulfills $\\mathbf A^{-1} \\mathbf A = \\mathbf A \\mathbf A^{-1} = \\mathbf 1 $  \n",
    "* A _unitary_ matrix $ \\mathbf A $ is one whose inverse is its adjoint. A _real unitary matrix_ is called _orthogonal_:  \n",
    "$ \\mathbf A^{-1} = \\mathbf A^{\\dagger} $\n",
    "* A _Hermitian_ matrix is _self-adjoint_:\n",
    "$\\mathbf A^{\\dagger} = \\mathbf A$ or $ A_{ji}^*= A_{ij} $"
   ]
  },
  {
   "cell_type": "markdown",
   "id": "115966cd-d9b1-4dd6-9c93-e3e2a776d805",
   "metadata": {
    "tags": []
   },
   "source": [
    "### **1.3** _\"S&O\"_ \n",
    "If A is an N x M matrix and B is a M x K matrix show that $ \\mathbf{AB}^\\dagger = \\mathbf B^\\dagger \\mathbf A^\\dagger $"
   ]
  },
  {
   "cell_type": "markdown",
   "id": "e019bbf7-ce22-445b-b2c4-fec7bbfb197c",
   "metadata": {
    "tags": []
   },
   "source": [
    "As $ \\mathbf C = \\mathbf A \\mathbf B$;  \n",
    "$  C_{ij} = \\sum_{k} A_{ik} B_{kj} $\n",
    "and since $ A_{jk}^* = A_{kj}^{\\dagger} $ , $ B_{ki}^* = B_{ik}^{\\dagger} : $\n",
    "$ \\left( \\mathbf AB \\right) ^{\\dagger} = \\left( \\mathbf C \\right) ^{\\dagger} = C_{ji}^* = \\sum_{k} A_{jk}^* B_{ki}^*  = \\sum_{k} B_{ik}^{\\dagger} A_{kj}^{\\dagger} = \\left( \\mathbf BA \\right) ^{\\dagger} = \\left( \\mathbf B \\right) ^{\\dagger} \\left( \\mathbf A \\right) ^{\\dagger}$"
   ]
  },
  {
   "cell_type": "markdown",
   "id": "bc40a31a-cf47-42f0-b7b4-030ae205c792",
   "metadata": {
    "tags": []
   },
   "source": [
    "### **1.4** _S&O\"_ \n",
    "Show:\n",
    "a) $ tr(\\mathbf{AB})=tr(\\mathbf{BA}) $  \n",
    "b)  $\\mathbf{AB}^{-1} = \\mathbf B^{-1} \\mathbf A^{-1} $  \n",
    "c) if $\\mathbf U$ is unitary and $ \\mathbf B= \\mathbf U^{\\dagger} \\mathbf A \\mathbf U $, $ \\mathbf A= \\mathbf U \\mathbf B \\mathbf U^{\\dagger} $  \n",
    "d) if $\\mathbf A$ and $\\mathbf B $ are Hermitian and $ \\mathbf C = \\mathbf A \\mathbf B$ is Hermitian, A and B commute  \n",
    "e) for $\\mathbf A$ Hermitian, $\\mathbf A^{-1}$ is also Hermitian if exists  \n",
    "f) If $\\mathbf A = \\begin{bmatrix} A_{11} & A_{12} \\\\ A_{21} & A_{22} \\end{bmatrix} $, then $\\mathbf A^{-1} = \\frac{1}{A_{11}A_{22}-A_{12}A_{21}} \\begin{bmatrix} A_{22} & -A_{12} \\\\ -A_{21} & A_{11} \\end{bmatrix}$"
   ]
  },
  {
   "cell_type": "markdown",
   "id": "a33320e7-1280-4946-9388-413bf94065a3",
   "metadata": {},
   "source": [
    "a) $$ \\sum_{n=1}^N (AB)_{nn} = \\sum_{n=1}^N \\sum_{m=1}^M A_{nm} B_{mn} = \\sum_{n=1}^N \\sum_{m=1}^M B_{mn} A_{nm} = \\sum_{m=1}^M (BA)_{mm} $$  \n",
    "b) $$ \\left( AB \\right) \\left( AB \\right)^{-1} = 1 $$  \n",
    "$$ \\mathbf B^{-1} \\mathbf A^{-1} \\left( AB \\right) \\left( AB \\right)^{-1}  = \\mathbf B^{-1} \\mathbf A^{-1} \\mathbf 1 $$  \n",
    "$$ \\mathbf B^{-1} \\left( \\mathbf A^{-1} A \\right) \\mathbf B \\left( AB \\right)^{-1} = \\mathbf B^{-1} \\mathbf A^{-1} $$  \n",
    "$$ \\mathbf B^{-1} 1 \\mathbf B \\left( AB \\right)^{-1} = \\mathbf B^{-1} \\mathbf A^{-1} $$  \n",
    "$$\\left( AB \\right)^{-1} = \\mathbf B^{-1} \\mathbf A^{-1} $$\n",
    "c) $$  \\mathbf B= \\mathbf U^{\\dagger} \\mathbf A \\mathbf U $$\n",
    "$$ \\mathbf U \\mathbf B \\mathbf U^{\\dagger} = \\mathbf U \\mathbf U^{\\dagger} \\mathbf A \\mathbf U \\mathbf U^{\\dagger} = \\mathbf 1 \\mathbf A \\mathbf 1  =\\mathbf A  $$\n",
    "d) $$ [A,B] = \\mathbf AB - \\mathbf BA = 0 $$\n",
    "because C is Hermitian, so $$ \\mathbf C = \\mathbf{AB} = \\mathbf C^{\\dagger}= \\mathbf{AB}^{\\dagger}= [ex 1.3] = \\mathbf{B}^{\\dagger} \\mathbf{A}^{\\dagger} $$  \n",
    "and as A, B also Hermitian;\n",
    "$$ \\mathbf{AB} = \\mathbf{B}^{\\dagger} \\mathbf{A}^{\\dagger} = \\mathbf{BA}$$\n",
    "e) As Hermitian, $\\mathbf A = \\mathbf A^{\\dagger} $ \n",
    "$$ \\left( \\mathbf A^{-1} \\right) ^{\\dagger} \\mathbf A = \\left( \\mathbf A^{-1} \\right) ^{\\dagger} \\mathbf A ^{\\dagger} = \\left( \\mathbf{A}\\mathbf{A}^{-1} \\right)^{\\dagger} = 1^{\\dagger} = 1 $$\n",
    "and $$ \\left( \\mathbf A^{-1} \\right) ^{\\dagger} \\mathbf A \\mathbf A^{-1} = \\mathbf A^{-1} $$ so $$ \\left( \\mathbf A^{-1} \\right) ^{\\dagger} = \\mathbf A^{-1}$$\n",
    "f) Imagine $ \\mathbf A^{-1} = \\begin{bmatrix} x & y \\\\ w & z \\end{bmatrix}$ so that  \n",
    "$$ \\begin{bmatrix} A_{11} & A_{12} \\\\ A_{21} & A_{22} \\end{bmatrix}\n",
    " \\begin{bmatrix} x & y \\\\ z & w \\end{bmatrix} \n",
    " = \\begin{bmatrix} 1 & 0 \\\\ 0 & 1 \\end{bmatrix} $$\n",
    "by solving the system of equations:\n",
    "$$ A_{11}x + A_{12}z = 1 $$\n",
    "$$ A_{11}y + A_{12}w = 0 $$\n",
    "$$ A_{21}x + A_{22}z = 0 $$\n",
    "$$ A_{21}y + A_{22}w = 1 $$\n",
    "we get:\n",
    "$$x = \\frac{A_{22}}{A_{11}A_{22}-A_{12}A_{21}} = \\frac{A_{22}}{|\\mathbf A|}$$\n",
    "$$y = \\frac{-A_{12}}{A_{11}A_{22}-A_{12}A_{21}} = \\frac{-A_{12}}{|\\mathbf A|} $$\n",
    "$$z = \\frac{-A_{21}}{A_{11}A_{22}-A_{12}A_{21}} = \\frac{-A_{21}}{|\\mathbf A|}$$\n",
    "$$w = \\frac{A_{11}}{A_{11}A_{22}-A_{12}A_{21}} = \\frac{A_{11}}{|\\mathbf A|}$$\n",
    "$$\\mathbf A^{-1} = \\frac{1}{|A|} \\begin{bmatrix} A_{22} & -A_{12} \\\\ -A_{21} & A_{11} \\end{bmatrix}$$"
   ]
  },
  {
   "cell_type": "markdown",
   "id": "7377c8fd-fad4-4978-9d03-eb10df0f247d",
   "metadata": {
    "tags": []
   },
   "source": [
    "## Determinants properties"
   ]
  },
  {
   "cell_type": "markdown",
   "id": "85ac13bb-5e40-456d-8302-ee4e164593ac",
   "metadata": {
    "tags": []
   },
   "source": [
    "### __1.5__ _\"S&O\"_ \n",
    "faces the above *[1-5]* demonstrations for the properties of 2x2 determinants. reference matrix  \n",
    " $$\\mathbf A = \\begin{bmatrix} A_{11} & A_{12} \\\\ A_{21} & A_{22} \\end{bmatrix} $$"
   ]
  },
  {
   "cell_type": "markdown",
   "id": "b46e764f-60e4-4115-9d6b-a7bf0c42be0b",
   "metadata": {
    "tags": []
   },
   "source": [
    "##### *1.5.[1]* If we have a 0-column or 0-row, $|A|=0$"
   ]
  },
  {
   "cell_type": "markdown",
   "id": "4ff8c052-cb7e-4303-b780-b1bebe3da50c",
   "metadata": {
    "tags": []
   },
   "source": [
    "$$\\begin{vmatrix}\n",
    "0 & 0 \\\\\n",
    "A_{21} & A_{22}\n",
    "\\end{vmatrix} = 0 A_{22} - 0 A_{21} = 0$$\n",
    "$$\\begin{vmatrix}\n",
    "0 & A_{12} \\\\\n",
    "0 & A_{22}\n",
    "\\end{vmatrix} = 0 A_{22} - A_{12} 0 = 0$$\n"
   ]
  },
  {
   "cell_type": "markdown",
   "id": "19554a61-4f42-49cd-a84b-2bc97b7561b2",
   "metadata": {
    "tags": []
   },
   "source": [
    "##### *1.5.[2]* If $ \\left( \\mathbf A \\right)_{ij} = A_{ii} \\delta_{ij}  $ , $|A|= \\prod_i A_{ii} = A_{11}A_{22}...A_{NN}$ "
   ]
  },
  {
   "cell_type": "markdown",
   "id": "7243329d-29bf-48eb-b8a2-1a120d78fd1e",
   "metadata": {
    "tags": []
   },
   "source": [
    "##### *1.5.[3]* A single interchange of any two rows/columns  in the determinant changes its sign "
   ]
  },
  {
   "cell_type": "markdown",
   "id": "81433106-f505-4c50-9063-87665369a27c",
   "metadata": {
    "tags": []
   },
   "source": [
    "$|A| = A_{11} A_{22} - A_{12}A_{21} $  \n",
    "change rows: $\\mathbf A' = \\begin{bmatrix} A_{21} & A_{22} \\\\ A_{11} & A_{12} \\end{bmatrix} $ \n",
    "change columns: $\\mathbf A'' = \\begin{bmatrix} A_{12} & A_{22} \\\\ A_{11} & A_{21} \\end{bmatrix} $  \n",
    "Hence:  \n",
    "$$|A'| = A_{21} A_{12} - A_{22}A_{11} = - (A_{11} A_{22} - A_{12}A_{21}) = - |A| $$ \n",
    "$$|A''| = A_{12} A_{21} - A_{22}A_{11} = - (A_{11} A_{22} - A_{12}A_{21}) = - |A| $$ "
   ]
  },
  {
   "cell_type": "markdown",
   "id": "ee344484-2cf1-478d-b02d-4a6a95728249",
   "metadata": {
    "tags": []
   },
   "source": [
    "##### *1.5.[4]* $$ |A| = (|A^{\\dagger}|)^* $$"
   ]
  },
  {
   "cell_type": "markdown",
   "id": "528ddaf6-ac47-4ae8-8c14-763ba0a6fe87",
   "metadata": {
    "tags": []
   },
   "source": [
    "$$  (|A^{\\dagger}|)^* = \\begin{vmatrix} A_{11}^* & A_{21}^* \\\\  A_{12}^* & A_{22}^* \\end{vmatrix}^* = (A_{11}^* A_{22}^* - A_{21}^*A_{12}^*)^* = A_{11} A_{22} - A_{12}A_{21} = |A| $$  "
   ]
  },
  {
   "cell_type": "markdown",
   "id": "1ff25a75-1716-48f9-8ed5-6c5c11d517d1",
   "metadata": {
    "tags": []
   },
   "source": [
    "##### *1.5.[5]* $$ |AB| = |A||B| $$"
   ]
  },
  {
   "cell_type": "markdown",
   "id": "a3311e82-dfc8-4afe-84ca-5e340f36a23a",
   "metadata": {
    "tags": []
   },
   "source": [
    " Considering $\\mathbf{B} = \\begin{bmatrix} B_{11} & B_{12} \\\\ B_{21} & B_{22} \\end{bmatrix} $, $ \\mathbf{AB} = \\begin{bmatrix} A_{11}B_{11}+A_{12}B_{21} & A_{11}B_{12}+A_{12}B_{22} \\\\ A_{21}B_{11}+A_{22}B_{21} & A_{21}B_{12}+A_{22}B_{22} \\end{bmatrix} $\n",
    " \n",
    " $$ |AB| = (A_{11}B_{11}+A_{12}B_{21})(A_{21}B_{12}+A_{22}B_{22}) - \\left[(A_{11}B_{12}+A_{12}B_{22})(A_{21}B_{11}+A_{22}B_{21}) \\right] = ... = A_{11}B_{11}A_{22}B_{22} + A_{12}B_{21}A_{21}B_{12} - A_{11}B_{12}A_{22}B_{21} - A_{12}B_{22}A_{21}B_{11} $$\n",
    " \n",
    "$$ |A||B| = \\begin{vmatrix} A_{11} & A_{12} \\\\ A_{21} & A_{22} \\end{vmatrix} \\begin{vmatrix} B_{11} & B_{12} \\\\ B_{21} & B_{22} \\end{vmatrix} = (A_{11}A_{22}-A_{12}A_{21}) (B_{11}B_{22}-B_{12}B_{21}) =  ...  = A_{11}B_{11}A_{22}B_{22} + A_{12}B_{21}A_{21}B_{12} - A_{11}B_{12}A_{22}B_{21} - A_{12}B_{22}A_{21}B_{11}$$"
   ]
  },
  {
   "cell_type": "markdown",
   "id": "80ac6c93-b79c-4e4b-a642-1f44a6de52f1",
   "metadata": {
    "tags": []
   },
   "source": [
    "### __1.6__ _\"S&O\"_\n",
    "faces the  *[6-9]* properties of general  nxn determinants  \n",
    "##### *1.6.[6]* If any 2 rows/columns of a determinant are equal, determinant is 0"
   ]
  },
  {
   "cell_type": "markdown",
   "id": "3c56697e-6ea2-4b21-9d85-05952d656351",
   "metadata": {},
   "source": [
    "For $\\mathbf A = \\begin{bmatrix} ... & ... & ... & ... \\\\ A_{i1} & A_{i2} & ... & A_{in} \\\\ A_{j1} & A_{j2} & ... & A_{jn} \\\\ ... & ... & ... & ... \\\\ A_{n1} & A_{n2} & ... & A_{nn} \\end{bmatrix}$, we saw in *1.5.3* that:  \n",
    "$$\\mathbf |A| = a =\\begin{vmatrix} ... & ... & ... & ... \\\\ A_{i1} & A_{i2} & ... & A_{in} \\\\ A_{j1} & A_{j2} & ... & A_{jn} \\\\ ... & ... & ... & ... \\\\ A_{n1} & A_{n2} & ... & A_{nn} \\end{vmatrix} = -a = - \\begin{vmatrix} ... & ... & ... & ... \\\\ A_{j1} & A_{j2} & ... & A_{jn} \\\\ A_{i1} & A_{i2} & ... & A_{in} \\\\ ... & ... & ... & ... \\\\ A_{n1} & A_{n2} & ... & A_{nn} \\end{vmatrix} = - |A|$$\n",
    "So since the two changed rows are equal, it has to be simultaneously satisfied both $a=a$ and $a=-a$ conditions, so $-a=-a$ ; $-a+a=0$ so the only possible solution is $a=0=-a $"
   ]
  },
  {
   "cell_type": "markdown",
   "id": "dc2cd059-15a3-49a1-8b20-936018310e97",
   "metadata": {
    "tags": []
   },
   "source": [
    "##### *1.6.[7]* $$|\\mathbf A^{-1}| = (|A|)^{-1}$$"
   ]
  },
  {
   "cell_type": "markdown",
   "id": "afd0da63-e7b3-47e8-8bbf-d1cc012a2e4d",
   "metadata": {},
   "source": [
    "From $\\mathbf A \\mathbf A^{-1} = \\mathbf 1 $,\n",
    "$$ |\\mathbf A \\mathbf A^{-1}| = |\\mathbf 1| $$\n",
    "$$ |\\mathbf A| |\\mathbf A^{-1}| = \\mathbf 1 $$\n",
    "$$ |\\mathbf A^{-1}| = |\\frac{1}{\\mathbf A}| = (|\\mathbf A|)^{-1} $$"
   ]
  },
  {
   "cell_type": "markdown",
   "id": "f6199e95-e2f5-4791-9712-7277285f0f6f",
   "metadata": {
    "tags": []
   },
   "source": [
    "##### *1.6.[8]* \n",
    "If $ \\mathbf A \\mathbf A^{\\dagger} = 1$, then $ |\\mathbf A|(|\\mathbf A|)^* = 1 $"
   ]
  },
  {
   "cell_type": "markdown",
   "id": "2f75eb9c-17ee-483a-a015-da2d8c90c037",
   "metadata": {
    "tags": []
   },
   "source": [
    "From [4]:  $|A| = (|A^{\\dagger}|)^* $ --> $ (|A|)^* = |A^{\\dagger}|$  \n",
    "And since $\\mathbf A \\mathbf A^{\\dagger} = 1$;    \n",
    "$|\\mathbf A| |\\mathbf A^{\\dagger}| = 1$  \n",
    "$|\\mathbf A| (|A|)^*  = 1$"
   ]
  },
  {
   "cell_type": "markdown",
   "id": "cbd608a3-fab0-4ced-bc94-97ea45ea2b34",
   "metadata": {
    "tags": []
   },
   "source": [
    "##### *1.6.[9]* If $ \\mathbf U^{\\dagger} \\mathbf O \\mathbf U = \\mathbf \\Omega$, and $ \\mathbf U^{\\dagger} \\mathbf U = \\mathbf U\\mathbf U^{\\dagger}=1$, then $ |\\mathbf O| = \\mathbf \\Omega| $"
   ]
  },
  {
   "cell_type": "markdown",
   "id": "a1b94f51-3c9f-43d7-bc9f-a4296961f969",
   "metadata": {},
   "source": [
    "$ |\\mathbf U^{\\dagger}| |\\mathbf O| |\\mathbf U| = |\\mathbf \\Omega| $, and $ |\\mathbf U^{\\dagger}| |\\mathbf U| = |1|= 1$, then $ |\\mathbf O| = \\mathbf \\Omega| $"
   ]
  },
  {
   "cell_type": "markdown",
   "id": "6f40eb8f-e3b0-4a34-ae0e-04b95d6200b3",
   "metadata": {
    "tags": []
   },
   "source": [
    "## Change of Basis, eigen-{values,vectors,functions}, operators..."
   ]
  },
  {
   "cell_type": "markdown",
   "id": "de109c29-fe9b-4638-935a-6daed7ddb9a9",
   "metadata": {
    "tags": []
   },
   "source": [
    "### **1.8** _\"S&O\"_ \n",
    "Show that the trace of a matrix is invariant under a unitary transformation, i.e. if $$\\mathbf \\Omega = \\mathbf U^{\\dagger} \\mathbf O \\mathbf U$$ $$tr\\mathbf \\Omega =tr\\mathbf O $$  \n"
   ]
  },
  {
   "cell_type": "markdown",
   "id": "3c90a91d-8161-4b43-95c1-44122aa6a26a",
   "metadata": {},
   "source": [
    "$$ \\Omega_{\\alpha\\beta} = \\sum_{ij} U_{\\alpha i}^{\\dagger} O_{ij} U_{j \\alpha} $$\n",
    "$$ tr\\Omega = \\sum_{\\alpha} \\Omega_{\\alpha\\alpha} = \\sum_{\\alpha} \\sum_{ij} U_{\\alpha i}^{\\dagger} O_{ij} U_{j \\alpha} = \\sum_{ij} O_{ij} \\sum_{\\alpha} U_{j \\alpha}U_{\\alpha i}^{\\dagger} = \\sum_{ij} O_{ij}  (\\mathbf U \\mathbf U^{\\dagger})_{ji} $$\n",
    "And since $ (\\mathbf U \\mathbf U^{\\dagger})_{ji} = \\sum_{\\alpha} U_{j \\alpha}U_{\\alpha i}^{\\dagger} = \\sum_{\\alpha} <j|\\alpha> <\\alpha|i> = <j|i> = \\delta_{ji} $\n",
    "$$ tr\\Omega =  \\sum_{ij} O_{ij}  \\delta_{ji} = tr \\mathbf O $$"
   ]
  },
  {
   "cell_type": "markdown",
   "id": "3b0a3b3e-dd39-4fda-b7a6-5d5011dcb04d",
   "metadata": {
    "tags": []
   },
   "source": [
    "### **1.11** _\"S&O\"_\n",
    "Find numerical values to the eigenvalues and eigenvectors of $\\mathbf A = \\begin{bmatrix}3&1 \\\\ 1&3 \\end{bmatrix}$ and $\\mathbf B = \\begin{bmatrix}3&1 \\\\ 1&2 \\end{bmatrix}$ using both the\n",
    "- a) Secular Determinat approach\n",
    "- b) Unitary transformation approach: We directly find the orthonormal matrix U that diagonalizes the symmetrix matrix O such that \n",
    "$$\\mathbf U^{\\dagger} \\mathbf O \\mathbf U = \\begin{bmatrix}U_{11} & U_{21} \\\\ U_{12} & U_{22}\\end{bmatrix} \n",
    "\\begin{bmatrix}O_{11} & O_{12} \\\\ O_{12} & O_{22}\\end{bmatrix} \n",
    "\\begin{bmatrix}U_{11} & U_{12} \\\\ U_{21} & U_{22}\\end{bmatrix} = \\mathbf \\omega = \\begin{bmatrix} \\omega_{1} & 0 \\\\ 0 & \\omega_{1} \\end{bmatrix}$$  \n",
    "***Not solved because it can be easily done, used instead to image the two diagonalization possibilities***"
   ]
  },
  {
   "cell_type": "markdown",
   "id": "f22062c4-867a-49d0-843c-2f7ef9f5e5b9",
   "metadata": {
    "tags": []
   },
   "source": [
    "### **1.13** _\"S&O\"_ \n",
    "Show that for the matrix $\\mathbf A = \\begin{bmatrix} A_{11} & A_{12} \\\\ A_{21} & A_{22} \\end{bmatrix} $ , \n",
    "$$f (\\mathbf A)  = \\begin{bmatrix} 1/2 \\left[f(a+b)+f(a-b)\\right] & 1/2 \\left[f(a+b)-f(a-b)\\right]\n",
    "                                \\\\ 1/2 \\left[f(a+b)-f(a-b)\\right] & 1/2 \\left[f(a+b)+f(a-b)\\right] \\end{bmatrix} $$\n",
    "when $A_{11}=A_{22}=a$ and $A_{21}=A_{12}=b$ and $b \\neq 0$ so that $\\mathbf A$ is not a diagonal matrix\n",
    "\n",
    "1) Diagonalize $\\mathbf A$, i. e.$\\mathbf U^{\\dagger} \\mathbf A \\mathbf U = \\mathbf a$,   \n",
    "(by the strategy of finding the roots of the secular equation), $\\mathbf A \\mathbf c = w \\mathbf c$ so $|\\mathbf A - w \\mathbf 1| = 0 $  \n",
    "such that $ \\mathbf a = \\begin{bmatrix} \\omega_{1} & 0 \\\\ 0 & \\omega_{2} \\end{bmatrix} $"
   ]
  },
  {
   "cell_type": "code",
   "execution_count": 2,
   "id": "87b719dc-10a6-4d87-8940-486393591667",
   "metadata": {
    "jupyter": {
     "source_hidden": true
    },
    "tags": []
   },
   "outputs": [
    {
     "data": {
      "text/latex": [
       "$\\displaystyle \\omega^{2} - 2 \\omega a + a^{2} - b^{2}$"
      ],
      "text/plain": [
       "\\omega**2 - 2*\\omega*a + a**2 - b**2"
      ]
     },
     "execution_count": 2,
     "metadata": {},
     "output_type": "execute_result"
    }
   ],
   "source": [
    "import sympy as smp\n",
    "a, b, w, omega_1, omega_2, c1_1, c1_2, c2_1, c2_2 = smp.symbols('a b \\omega \\omega_1 \\omega_2 c^1_1 c^1_2 c^2_1 c^2_2')\n",
    "A = smp.Matrix([[a,b],[b,a]])\n",
    "SecEq = smp.det(A-w*smp.eye(2))\n",
    "SecEq"
   ]
  },
  {
   "cell_type": "code",
   "execution_count": 3,
   "id": "f2e74e0b-2efa-4c55-a339-72aa254182d1",
   "metadata": {
    "jupyter": {
     "source_hidden": true
    },
    "tags": []
   },
   "outputs": [
    {
     "data": {
      "text/latex": [
       "$\\displaystyle a - b$"
      ],
      "text/plain": [
       "a - b"
      ]
     },
     "execution_count": 3,
     "metadata": {},
     "output_type": "execute_result"
    }
   ],
   "source": [
    "w1 = smp.solve(SecEq, w)[0]\n",
    "w2 = smp.solve(SecEq, w)[1]\n",
    "w1"
   ]
  },
  {
   "cell_type": "markdown",
   "id": "baf041ed-8333-411c-a38d-fa5049b3f4be",
   "metadata": {},
   "source": [
    "2) SOLVE the eigenvalue problem,  $\\begin{bmatrix} A_{11} & A_{12} \\\\ A_{21} & A_{22} \\end{bmatrix} \\begin{bmatrix} c^i_{1} \\\\ c^i_{2} \\end{bmatrix} = w_i \\begin{bmatrix} c^i_{1} \\\\ c^i_{2} \\end{bmatrix} $, for $w_1, w_2, ..., w_i$   "
   ]
  },
  {
   "cell_type": "code",
   "execution_count": 4,
   "id": "6967707a-db4c-465a-b8d1-fbd46314453e",
   "metadata": {
    "jupyter": {
     "source_hidden": true
    },
    "tags": []
   },
   "outputs": [
    {
     "data": {
      "text/plain": [
       "(-sqrt(2)/2, sqrt(2)/2)"
      ]
     },
     "execution_count": 4,
     "metadata": {},
     "output_type": "execute_result"
    }
   ],
   "source": [
    "# w1\n",
    "eq1_1 = A*smp.Matrix([[c1_1], [c1_2]]) - w1*smp.Matrix([[c1_1], [c1_2]]) \n",
    "eq1_2 = c1_1**2 + c1_2**2 - 1\n",
    "c11, c12 = smp.solve([eq1_1, eq1_2], [c1_1,c1_2])[0]\n",
    "c11, c12"
   ]
  },
  {
   "cell_type": "code",
   "execution_count": 5,
   "id": "b6022bcf-c117-4198-8869-3cf09e173a0b",
   "metadata": {
    "jupyter": {
     "source_hidden": true
    },
    "tags": []
   },
   "outputs": [
    {
     "data": {
      "text/latex": [
       "$\\displaystyle - \\frac{\\sqrt{2}}{2}$"
      ],
      "text/plain": [
       "-sqrt(2)/2"
      ]
     },
     "metadata": {},
     "output_type": "display_data"
    },
    {
     "data": {
      "text/latex": [
       "$\\displaystyle - \\frac{\\sqrt{2}}{2}$"
      ],
      "text/plain": [
       "-sqrt(2)/2"
      ]
     },
     "metadata": {},
     "output_type": "display_data"
    }
   ],
   "source": [
    "# w2\n",
    "eq2_1 = A*smp.Matrix([[c2_1], [c2_2]]) - w2*smp.Matrix([[c2_1], [c2_2]]) \n",
    "eq2_2 = c2_1**2 + c2_2**2 - 1\n",
    "c21, c22 = smp.solve([eq2_1, eq2_2], [c2_1,c2_2])[0]\n",
    "display(c21, c22)"
   ]
  },
  {
   "cell_type": "markdown",
   "id": "c95b2a31-0648-452f-8aff-8d4913977b5d",
   "metadata": {},
   "source": [
    "Apply the function to the diagonal matrix $\\mathbf a$ and undiagonalize by applying the unitary transformation: $ f(\\mathbf A) = \\mathbf U f(\\mathbf a) \\mathbf U^{\\dagger}$,  \n",
    "which matrix $\\mathbf U$ can be built from the eigenvectors 1, ..., i: $\\mathbf U = \\left( \\mathbf c^1 \\mathbf c^2 ... \\mathbf c^i \\right)$"
   ]
  },
  {
   "cell_type": "code",
   "execution_count": 6,
   "id": "ab7ade2d-7906-44fb-a0b5-8d723ca855a8",
   "metadata": {
    "jupyter": {
     "source_hidden": true
    },
    "tags": []
   },
   "outputs": [
    {
     "data": {
      "text/latex": [
       "$\\displaystyle \\left[\\begin{matrix}c^{1}_{1} & c^{2}_{1}\\\\c^{1}_{2} & c^{2}_{2}\\end{matrix}\\right]$"
      ],
      "text/plain": [
       "Matrix([\n",
       "[c^1_1, c^2_1],\n",
       "[c^1_2, c^2_2]])"
      ]
     },
     "execution_count": 6,
     "metadata": {},
     "output_type": "execute_result"
    }
   ],
   "source": [
    "U= smp.Matrix([[c1_1, c2_1], [c1_2, c2_2]])\n",
    "U"
   ]
  },
  {
   "cell_type": "code",
   "execution_count": 7,
   "id": "385499d8-b650-496e-afc7-177353e91d60",
   "metadata": {
    "jupyter": {
     "source_hidden": true
    },
    "tags": []
   },
   "outputs": [
    {
     "data": {
      "text/latex": [
       "$\\displaystyle \\left[\\begin{matrix}- \\frac{\\sqrt{2}}{2} & - \\frac{\\sqrt{2}}{2}\\\\\\frac{\\sqrt{2}}{2} & - \\frac{\\sqrt{2}}{2}\\end{matrix}\\right]$"
      ],
      "text/plain": [
       "Matrix([\n",
       "[-sqrt(2)/2, -sqrt(2)/2],\n",
       "[ sqrt(2)/2, -sqrt(2)/2]])"
      ]
     },
     "execution_count": 7,
     "metadata": {},
     "output_type": "execute_result"
    }
   ],
   "source": [
    "U.subs([(c1_1, c11), (c2_1, c21), (c1_2, c12), (c2_2, c22)])"
   ]
  },
  {
   "cell_type": "code",
   "execution_count": 8,
   "id": "8e6e7ddf-3e85-45c9-80b9-53b53fbc8126",
   "metadata": {
    "jupyter": {
     "source_hidden": true
    },
    "tags": []
   },
   "outputs": [
    {
     "data": {
      "text/latex": [
       "$\\displaystyle f{\\left(a - b \\right)}$"
      ],
      "text/plain": [
       "f(a - b)"
      ]
     },
     "execution_count": 8,
     "metadata": {},
     "output_type": "execute_result"
    }
   ],
   "source": [
    "f = smp.symbols('f', cls=smp.Function)\n",
    "f1 = f (w1)\n",
    "f2 = f (w2)\n",
    "f1"
   ]
  },
  {
   "cell_type": "code",
   "execution_count": 9,
   "id": "d90d0ae8-e9ed-4e3f-8c65-6b19d5839511",
   "metadata": {
    "jupyter": {
     "source_hidden": true
    },
    "tags": []
   },
   "outputs": [
    {
     "name": "stdout",
     "output_type": "stream",
     "text": [
      "result is\n"
     ]
    },
    {
     "data": {
      "text/latex": [
       "$\\displaystyle \\left[\\begin{matrix}\\frac{f{\\left(a - b \\right)}}{2} + \\frac{f{\\left(a + b \\right)}}{2} & - \\frac{f{\\left(a - b \\right)}}{2} + \\frac{f{\\left(a + b \\right)}}{2}\\\\- \\frac{f{\\left(a - b \\right)}}{2} + \\frac{f{\\left(a + b \\right)}}{2} & \\frac{f{\\left(a - b \\right)}}{2} + \\frac{f{\\left(a + b \\right)}}{2}\\end{matrix}\\right]$"
      ],
      "text/plain": [
       "⎡ f(a - b)   f(a + b)     f(a - b)   f(a + b)⎤\n",
       "⎢ ──────── + ────────   - ──────── + ────────⎥\n",
       "⎢    2          2            2          2    ⎥\n",
       "⎢                                            ⎥\n",
       "⎢  f(a - b)   f(a + b)   f(a - b)   f(a + b) ⎥\n",
       "⎢- ──────── + ────────   ──────── + ──────── ⎥\n",
       "⎣     2          2          2          2     ⎦"
      ]
     },
     "metadata": {},
     "output_type": "display_data"
    }
   ],
   "source": [
    "smp.init_printing()\n",
    "print('result is')\n",
    "display(U.subs([(c1_1, c11), (c2_1, c21), (c1_2, c12), (c2_2, c22)]) * smp.diag(f1,f2) * U.subs([(c1_1, c11), (c2_1, c21), (c1_2, c12), (c2_2, c22)]).T)\n"
   ]
  },
  {
   "cell_type": "markdown",
   "id": "42c1ebf3-ebb8-49cb-a970-b1c2d95c75a6",
   "metadata": {
    "tags": []
   },
   "source": [
    "### __2.22__ _P&A_  \n",
    "Matricial representation of $\\hat A$ operator in an orthonormal ${\\phi_1,\\phi_2,\\phi_3,\\phi_4}$ 4D Hilbert space is:\n",
    "$$\\mathbf{A} = \\begin{bmatrix} 0&1&0&0 \\\\ 1&0&1&0 \\\\ 0&1&0&1 \\\\ 0&0&1&0 \\end{bmatrix} $$\n",
    "Calculate eigenvalues and eigenfunctions of $\\hat A$  "
   ]
  },
  {
   "cell_type": "code",
   "execution_count": 10,
   "id": "a4384f24-ab01-43bf-a4f9-64296ab007d0",
   "metadata": {
    "jupyter": {
     "source_hidden": true
    },
    "tags": []
   },
   "outputs": [
    {
     "data": {
      "text/plain": [
       "'The secular determinant is'"
      ]
     },
     "metadata": {},
     "output_type": "display_data"
    },
    {
     "data": {
      "image/png": "[encoded data removed]",
      "text/latex": [
       "$\\displaystyle a^{4} - 3 a^{2} + 1$"
      ],
      "text/plain": [
       " 4      2    \n",
       "a  - 3⋅a  + 1"
      ]
     },
     "metadata": {},
     "output_type": "display_data"
    },
    {
     "data": {
      "text/plain": [
       "'and the roots are'"
      ]
     },
     "metadata": {},
     "output_type": "display_data"
    },
    {
     "data": {
      "image/png": "[encoded data removed]",
      "text/latex": [
       "$\\displaystyle \\frac{1}{2} + \\frac{\\sqrt{5}}{2}$"
      ],
      "text/plain": [
       "1   √5\n",
       "─ + ──\n",
       "2   2 "
      ]
     },
     "metadata": {},
     "output_type": "display_data"
    },
    {
     "data": {
      "image/png": "[encoded data removed]",
      "text/latex": [
       "$\\displaystyle - \\frac{1}{2} + \\frac{\\sqrt{5}}{2}$"
      ],
      "text/plain": [
       "  1   √5\n",
       "- ─ + ──\n",
       "  2   2 "
      ]
     },
     "metadata": {},
     "output_type": "display_data"
    },
    {
     "data": {
      "image/png": "[encoded data removed]",
      "text/latex": [
       "$\\displaystyle \\frac{1}{2} - \\frac{\\sqrt{5}}{2}$"
      ],
      "text/plain": [
       "1   √5\n",
       "─ - ──\n",
       "2   2 "
      ]
     },
     "metadata": {},
     "output_type": "display_data"
    },
    {
     "data": {
      "image/png": "[encoded data removed]",
      "text/latex": [
       "$\\displaystyle - \\frac{\\sqrt{5}}{2} - \\frac{1}{2}$"
      ],
      "text/plain": [
       "  √5   1\n",
       "- ── - ─\n",
       "  2    2"
      ]
     },
     "metadata": {},
     "output_type": "display_data"
    },
    {
     "data": {
      "text/plain": [
       "'EIGENVALUES'"
      ]
     },
     "metadata": {},
     "output_type": "display_data"
    },
    {
     "data": {
      "image/png": "[encoded data removed]",
      "text/latex": [
       "$\\displaystyle 1.61803398874989$"
      ],
      "text/plain": [
       "1.61803398874989"
      ]
     },
     "metadata": {},
     "output_type": "display_data"
    },
    {
     "data": {
      "image/png": "[encoded data removed]",
      "text/latex": [
       "$\\displaystyle 0.618033988749895$"
      ],
      "text/plain": [
       "0.618033988749895"
      ]
     },
     "metadata": {},
     "output_type": "display_data"
    },
    {
     "data": {
      "image/png": "[encoded data removed]",
      "text/latex": [
       "$\\displaystyle -0.618033988749895$"
      ],
      "text/plain": [
       "-0.618033988749895"
      ]
     },
     "metadata": {},
     "output_type": "display_data"
    },
    {
     "data": {
      "image/png": "[encoded data removed]",
      "text/latex": [
       "$\\displaystyle -1.61803398874989$"
      ],
      "text/plain": [
       "-1.61803398874989"
      ]
     },
     "metadata": {},
     "output_type": "display_data"
    },
    {
     "data": {
      "text/plain": [
       "'EIGENVECTORS psi_i=f(c4)'"
      ]
     },
     "metadata": {},
     "output_type": "display_data"
    },
    {
     "data": {
      "image/png": "[encoded data removed]",
      "text/latex": [
       "$\\displaystyle \\left[ \\left[ \\left\\{ c_{1} : c_{4}, \\  c_{2} : c_{4} \\left(\\frac{1}{2} + \\frac{\\sqrt{5}}{2}\\right), \\  c_{3} : c_{4} \\left(\\frac{1}{2} + \\frac{\\sqrt{5}}{2}\\right)\\right\\}\\right], \\  \\left[ \\left\\{ c_{1} : - c_{4}, \\  c_{2} : c_{4} \\left(\\frac{1}{2} - \\frac{\\sqrt{5}}{2}\\right), \\  c_{3} : c_{4} \\left(- \\frac{1}{2} + \\frac{\\sqrt{5}}{2}\\right)\\right\\}\\right], \\  \\left[ \\left\\{ c_{1} : c_{4}, \\  c_{2} : c_{4} \\left(\\frac{1}{2} - \\frac{\\sqrt{5}}{2}\\right), \\  c_{3} : c_{4} \\left(\\frac{1}{2} - \\frac{\\sqrt{5}}{2}\\right)\\right\\}\\right], \\  \\left[ \\left\\{ c_{1} : - c_{4}, \\  c_{2} : c_{4} \\left(\\frac{1}{2} + \\frac{\\sqrt{5}}{2}\\right), \\  c_{3} : c_{4} \\left(- \\frac{\\sqrt{5}}{2} - \\frac{1}{2}\\right)\\right\\}\\right]\\right]$"
      ],
      "text/plain": [
       "⎡⎡⎧               ⎛1   √5⎞         ⎛1   √5⎞⎫⎤  ⎡⎧                ⎛1   √5⎞         ⎛  1   √5⎞⎫⎤  ⎡⎧               ⎛1    ↪\n",
       "⎢⎢⎨c₁: c₄, c₂: c₄⋅⎜─ + ──⎟, c₃: c₄⋅⎜─ + ──⎟⎬⎥, ⎢⎨c₁: -c₄, c₂: c₄⋅⎜─ - ──⎟, c₃: c₄⋅⎜- ─ + ──⎟⎬⎥, ⎢⎨c₁: c₄, c₂: c₄⋅⎜─ -  ↪\n",
       "⎣⎣⎩               ⎝2   2 ⎠         ⎝2   2 ⎠⎭⎦  ⎣⎩                ⎝2   2 ⎠         ⎝  2   2 ⎠⎭⎦  ⎣⎩               ⎝2    ↪\n",
       "\n",
       "↪ √5⎞         ⎛1   √5⎞⎫⎤  ⎡⎧                ⎛1   √5⎞         ⎛  √5   1⎞⎫⎤⎤\n",
       "↪ ──⎟, c₃: c₄⋅⎜─ - ──⎟⎬⎥, ⎢⎨c₁: -c₄, c₂: c₄⋅⎜─ + ──⎟, c₃: c₄⋅⎜- ── - ─⎟⎬⎥⎥\n",
       "↪ 2 ⎠         ⎝2   2 ⎠⎭⎦  ⎣⎩                ⎝2   2 ⎠         ⎝  2    2⎠⎭⎦⎦"
      ]
     },
     "metadata": {},
     "output_type": "display_data"
    },
    {
     "data": {
      "text/plain": [
       "'getting numerical values from normalization condition and coeficients:'"
      ]
     },
     "metadata": {},
     "output_type": "display_data"
    },
    {
     "data": {
      "text/plain": [
       "'for psi1:'"
      ]
     },
     "metadata": {},
     "output_type": "display_data"
    },
    {
     "data": {
      "image/png": "[encoded data removed]",
      "text/latex": [
       "$\\displaystyle \\left[ \\left\\{ c_{1} : c_{4}, \\  c_{2} : c_{4} \\left(\\frac{1}{2} + \\frac{\\sqrt{5}}{2}\\right), \\  c_{3} : c_{4} \\left(\\frac{1}{2} + \\frac{\\sqrt{5}}{2}\\right)\\right\\}\\right]$"
      ],
      "text/plain": [
       "⎡⎧               ⎛1   √5⎞         ⎛1   √5⎞⎫⎤\n",
       "⎢⎨c₁: c₄, c₂: c₄⋅⎜─ + ──⎟, c₃: c₄⋅⎜─ + ──⎟⎬⎥\n",
       "⎣⎩               ⎝2   2 ⎠         ⎝2   2 ⎠⎭⎦"
      ]
     },
     "metadata": {},
     "output_type": "display_data"
    },
    {
     "data": {
      "text/plain": [
       "'for psi1: |c4|^2='"
      ]
     },
     "metadata": {},
     "output_type": "display_data"
    },
    {
     "data": {
      "image/png": "[encoded data removed]",
      "text/latex": [
       "$\\displaystyle 0.371748034460185$"
      ],
      "text/plain": [
       "0.371748034460185"
      ]
     },
     "metadata": {},
     "output_type": "display_data"
    },
    {
     "data": {
      "text/plain": [
       "'for psi3:'"
      ]
     },
     "metadata": {},
     "output_type": "display_data"
    },
    {
     "data": {
      "image/png": "[encoded data removed]",
      "text/latex": [
       "$\\displaystyle \\left[ \\left\\{ c_{1} : c_{4}, \\  c_{2} : c_{4} \\left(\\frac{1}{2} - \\frac{\\sqrt{5}}{2}\\right), \\  c_{3} : c_{4} \\left(\\frac{1}{2} - \\frac{\\sqrt{5}}{2}\\right)\\right\\}\\right]$"
      ],
      "text/plain": [
       "⎡⎧               ⎛1   √5⎞         ⎛1   √5⎞⎫⎤\n",
       "⎢⎨c₁: c₄, c₂: c₄⋅⎜─ - ──⎟, c₃: c₄⋅⎜─ - ──⎟⎬⎥\n",
       "⎣⎩               ⎝2   2 ⎠         ⎝2   2 ⎠⎭⎦"
      ]
     },
     "metadata": {},
     "output_type": "display_data"
    },
    {
     "data": {
      "text/plain": [
       "'for psi3: |c4|^2='"
      ]
     },
     "metadata": {},
     "output_type": "display_data"
    },
    {
     "data": {
      "image/png": "[encoded data removed]",
      "text/latex": [
       "$\\displaystyle 0.601500955007546$"
      ],
      "text/plain": [
       "0.601500955007546"
      ]
     },
     "metadata": {},
     "output_type": "display_data"
    }
   ],
   "source": [
    "phi1, phi2, phi3, phi4, a= smp.symbols('phi_1 phi_2 phi_3 phi_4 a', real=True)\n",
    "c1,c2,c3,c4 = smp.symbols('c_1 c_2 c_3 c_4')\n",
    "phi_ket = smp.Matrix([\n",
    "    [c1*phi1],\n",
    "    [c2*phi2],\n",
    "    [c3*phi3],\n",
    "    [c4*phi4]])\n",
    "phi_bra = phi_ket.T\n",
    "A = smp.Matrix([\n",
    "    [0, 1, 0, 0],\n",
    "    [1, 0, 1, 0],\n",
    "    [0, 1, 0, 1],\n",
    "    [0, 0, 1, 0]])\n",
    "S = smp.Matrix([\n",
    "    [1, 0, 0, 0],\n",
    "    [0, 1, 0, 0],\n",
    "    [0, 0, 1, 0],\n",
    "    [0, 0, 0, 1]])\n",
    "\n",
    "#SECULAR EQ AND EIGVALS\n",
    "Eqsec = smp.det(A-a*S)\n",
    "Eqsec_roots = smp.solve(smp.det(A-a*S), a)[:]\n",
    "a1, a2, a3, a4 = smp.solve(smp.det(A-a*S), a)[2], smp.solve(smp.det(A-a*S), a)[0], smp.solve(smp.det(A-a*S), a)[1],smp.solve(smp.det(A-a*S), a)[3]\n",
    "\n",
    "display('The secular determinant is', Eqsec)\n",
    "display('and the roots are',  a1, a2, a3, a4)\n",
    "display('EIGENVALUES')\n",
    "display(a1.evalf(),a2.evalf(),a3.evalf(),a4.evalf())\n",
    "\n",
    "#EIGVECTS: c1_i, c2_i, c3_i & c4_i are c1-c4 coefs in c matrix for i-est eigenvalue\n",
    "c = smp.Matrix([c1, c2, c3, c4])\n",
    "eigenvalues = np.array([a1,a2,a3,a4])\n",
    "eigenvectors = []\n",
    "\n",
    "    #for each eigenvalue ai we solve (A- ai*I)*c=0\n",
    "for eigval in eigenvalues:\n",
    "    eigenvectors.append([smp.solve((A-eigval*S)*c, [c1,c2,c3,c4])])\n",
    "display('EIGENVECTORS psi_i=f(c4)')\n",
    "display(eigenvectors)\n",
    "##From normalization condition and coef expansion c1-c4 --> 1=c1^2 + c2^2 + c3^3 + c4^4 \n",
    "\n",
    "# we get precise expression of psi1-psi4 as LC of phi1-phi4. For example, psi1 and psi3\n",
    "display('getting numerical values from normalization condition and coeficients:')\n",
    "display('for psi1:')\n",
    "display(eigenvectors[0])\n",
    "f1 = 2*c4**2 + 2*(c4*(1/2 + smp.sqrt(5)/2))**2 \n",
    "c4_val = smp.Abs(smp.solve(1-f1, c4)[0])\n",
    "display('for psi1: |c4|^2=', c4_val)\n",
    "\n",
    "display('for psi3:')\n",
    "display(eigenvectors[2])\n",
    "f3 = 2*c4**2 + 2*(c4*(1/2 - smp.sqrt(5)/2))**2 \n",
    "c4_valf3 = smp.Abs(smp.solve(1-f3, c4)[0])\n",
    "display('for psi3: |c4|^2=', c4_valf3)"
   ]
  },
  {
   "cell_type": "markdown",
   "id": "b3d732af-41fe-4ebf-b15b-4be2827ce490",
   "metadata": {
    "tags": []
   },
   "source": [
    "### __2.23__ _P&A_ \n",
    "Matricial representation of $\\hat A$ operator in an orthonormal ${\\phi_1,\\phi_2,\\phi_3,\\phi_4}$ 4D Hilbert space is:\n",
    "$$\\mathbf{A} = \\begin{bmatrix} 0&1&0&1 \\\\ 1&0&1&0 \\\\ 0&1&0&1 \\\\ 1&0&1&0 \\end{bmatrix} $$\n",
    "Calculate eigenvalues and complete set of eigenfunctions of $\\hat A$"
   ]
  },
  {
   "cell_type": "code",
   "execution_count": 11,
   "id": "b5e37ed5-b7ff-4dd8-b186-8cb9ae99ec68",
   "metadata": {
    "jupyter": {
     "source_hidden": true
    },
    "tags": []
   },
   "outputs": [
    {
     "data": {
      "text/plain": [
       "'The secular determinant is'"
      ]
     },
     "metadata": {},
     "output_type": "display_data"
    },
    {
     "data": {
      "image/png": "[encoded data removed]",
      "text/latex": [
       "$\\displaystyle a^{4} - 4 a^{2}$"
      ],
      "text/plain": [
       " 4      2\n",
       "a  - 4⋅a "
      ]
     },
     "metadata": {},
     "output_type": "display_data"
    },
    {
     "data": {
      "text/plain": [
       "'and the roots are'"
      ]
     },
     "metadata": {},
     "output_type": "display_data"
    },
    {
     "data": {
      "image/png": "[encoded data removed]",
      "text/latex": [
       "$\\displaystyle -2$"
      ],
      "text/plain": [
       "-2"
      ]
     },
     "metadata": {},
     "output_type": "display_data"
    },
    {
     "data": {
      "image/png": "[encoded data removed]",
      "text/latex": [
       "$\\displaystyle 0$"
      ],
      "text/plain": [
       "0"
      ]
     },
     "metadata": {},
     "output_type": "display_data"
    },
    {
     "data": {
      "image/png": "[encoded data removed]",
      "text/latex": [
       "$\\displaystyle 2$"
      ],
      "text/plain": [
       "2"
      ]
     },
     "metadata": {},
     "output_type": "display_data"
    },
    {
     "data": {
      "image/png": "[encoded data removed]",
      "text/latex": [
       "$\\displaystyle - \\frac{\\sqrt{5}}{2} - \\frac{1}{2}$"
      ],
      "text/plain": [
       "  √5   1\n",
       "- ── - ─\n",
       "  2    2"
      ]
     },
     "metadata": {},
     "output_type": "display_data"
    },
    {
     "data": {
      "text/plain": [
       "'EIGENVALUES'"
      ]
     },
     "metadata": {},
     "output_type": "display_data"
    },
    {
     "data": {
      "image/png": "[encoded data removed]",
      "text/latex": [
       "$\\displaystyle -2.0$"
      ],
      "text/plain": [
       "-2.00000000000000"
      ]
     },
     "metadata": {},
     "output_type": "display_data"
    },
    {
     "data": {
      "image/png": "[encoded data removed]",
      "text/latex": [
       "$\\displaystyle 0$"
      ],
      "text/plain": [
       "0"
      ]
     },
     "metadata": {},
     "output_type": "display_data"
    },
    {
     "data": {
      "image/png": "[encoded data removed]",
      "text/latex": [
       "$\\displaystyle 2.0$"
      ],
      "text/plain": [
       "2.00000000000000"
      ]
     },
     "metadata": {},
     "output_type": "display_data"
    },
    {
     "data": {
      "text/plain": [
       "'EIGENVECTORS psi_i=f(c4)'"
      ]
     },
     "metadata": {},
     "output_type": "display_data"
    },
    {
     "data": {
      "image/png": "[encoded data removed]",
      "text/latex": [
       "$\\displaystyle \\left[ \\left[ \\left\\{ c_{1} : - c_{4}, \\  c_{2} : c_{4}, \\  c_{3} : - c_{4}\\right\\}\\right], \\  \\left[ \\left\\{ c_{1} : - c_{3}, \\  c_{2} : - c_{4}\\right\\}\\right], \\  \\left[ \\left\\{ c_{1} : c_{4}, \\  c_{2} : c_{4}, \\  c_{3} : c_{4}\\right\\}\\right]\\right]$"
      ],
      "text/plain": [
       "[[{c₁: -c₄, c₂: c₄, c₃: -c₄}], [{c₁: -c₃, c₂: -c₄}], [{c₁: c₄, c₂: c₄, c₃: c₄}]]"
      ]
     },
     "metadata": {},
     "output_type": "display_data"
    },
    {
     "data": {
      "text/plain": [
       "'getting numerical values from normalization condition and coeficients:'"
      ]
     },
     "metadata": {},
     "output_type": "display_data"
    },
    {
     "data": {
      "text/plain": [
       "'for psi1:'"
      ]
     },
     "metadata": {},
     "output_type": "display_data"
    },
    {
     "data": {
      "image/png": "[encoded data removed]",
      "text/latex": [
       "$\\displaystyle \\left[ \\left\\{ c_{1} : - c_{4}, \\  c_{2} : c_{4}, \\  c_{3} : - c_{4}\\right\\}\\right]$"
      ],
      "text/plain": [
       "[{c₁: -c₄, c₂: c₄, c₃: -c₄}]"
      ]
     },
     "metadata": {},
     "output_type": "display_data"
    },
    {
     "data": {
      "text/plain": [
       "'for psi1: |c4|^2='"
      ]
     },
     "metadata": {},
     "output_type": "display_data"
    },
    {
     "data": {
      "image/png": "[encoded data removed]",
      "text/latex": [
       "$\\displaystyle \\frac{1}{2}$"
      ],
      "text/plain": [
       "1/2"
      ]
     },
     "metadata": {},
     "output_type": "display_data"
    },
    {
     "data": {
      "text/plain": [
       "'for psi3:'"
      ]
     },
     "metadata": {},
     "output_type": "display_data"
    },
    {
     "data": {
      "image/png": "[encoded data removed]",
      "text/latex": [
       "$\\displaystyle \\left[ \\left\\{ c_{1} : c_{4}, \\  c_{2} : c_{4}, \\  c_{3} : c_{4}\\right\\}\\right]$"
      ],
      "text/plain": [
       "[{c₁: c₄, c₂: c₄, c₃: c₄}]"
      ]
     },
     "metadata": {},
     "output_type": "display_data"
    },
    {
     "data": {
      "text/plain": [
       "'for psi3: |c4|^2='"
      ]
     },
     "metadata": {},
     "output_type": "display_data"
    },
    {
     "data": {
      "image/png": "[encoded data removed]",
      "text/latex": [
       "$\\displaystyle \\frac{1}{2}$"
      ],
      "text/plain": [
       "1/2"
      ]
     },
     "metadata": {},
     "output_type": "display_data"
    }
   ],
   "source": [
    "phi1, phi2, phi3, phi4, a= smp.symbols('phi_1 phi_2 phi_3 phi_4 a', real=True)\n",
    "c1,c2,c3,c4 = smp.symbols('c_1 c_2 c_3 c_4')\n",
    "phi_ket = smp.Matrix([\n",
    "    [c1*phi1],\n",
    "    [c2*phi2],\n",
    "    [c3*phi3],\n",
    "    [c4*phi4]])\n",
    "phi_bra = phi_ket.T\n",
    "A = smp.Matrix([\n",
    "    [0, 1, 0, 1],\n",
    "    [1, 0, 1, 0],\n",
    "    [0, 1, 0, 1],\n",
    "    [1, 0, 1, 0]])\n",
    "S = smp.Matrix([\n",
    "    [1, 0, 0, 0],\n",
    "    [0, 1, 0, 0],\n",
    "    [0, 0, 1, 0],\n",
    "    [0, 0, 0, 1]])\n",
    "\n",
    "#SECULAR EQ AND EIGVALS\n",
    "Eqsec = smp.det(A-a*S)\n",
    "Eqsec_roots = smp.solve(smp.det(A-a*S), a)[:]\n",
    "a1, a2, a3 = smp.solve(smp.det(A-a*S), a)[0], smp.solve(smp.det(A-a*S), a)[1], smp.solve(smp.det(A-a*S),a)[2]\n",
    "\n",
    "display('The secular determinant is', Eqsec)\n",
    "display('and the roots are',  a1, a2, a3, a4)\n",
    "display('EIGENVALUES')\n",
    "display(a1.evalf(),a2.evalf(),a3.evalf())\n",
    "\n",
    "#EIGVECTS: c1_i, c2_i, c3_i & c4_i are c1-c4 coefs in c matrix for i-est eigenvalue\n",
    "c = smp.Matrix([c1, c2, c3, c4])\n",
    "eigenvalues = np.array([a1,a2,a3])\n",
    "eigenvectors = []\n",
    "\n",
    "    #for each eigenvalue ai we solve (A- ai*I)*c=0\n",
    "for eigval in eigenvalues:\n",
    "    eigenvectors.append([smp.solve((A-eigval*S)*c, [c1,c2,c3,c4])])\n",
    "display('EIGENVECTORS psi_i=f(c4)')\n",
    "display(eigenvectors)\n",
    "##From normalization condition and coef expansion c1-c4 --> 1=c1^2 + c2^2 + c3^3 + c4^4 \n",
    "\n",
    "# we get precise expression of psi1-psi4 as LC of phi1-phi4. For example, psi1 and psi3\n",
    "display('getting numerical values from normalization condition and coeficients:')\n",
    "display('for psi1:')\n",
    "display(eigenvectors[0])\n",
    "f1 = 4*c4**2\n",
    "c4_val = smp.Abs(smp.solve(1-f1, c4)[0])\n",
    "display('for psi1: |c4|^2=', c4_val)\n",
    "\n",
    "display('for psi3:')\n",
    "display(eigenvectors[2])\n",
    "f3 = 4*c4**2 \n",
    "c4_valf3 = smp.Abs(smp.solve(1-f3, c4)[0])\n",
    "display('for psi3: |c4|^2=', c4_valf3)"
   ]
  },
  {
   "cell_type": "markdown",
   "id": "ae816700-b410-47e3-9881-3058a6f10423",
   "metadata": {
    "tags": []
   },
   "source": [
    "##  on the Dirac's Notation for treating N-Dim vectors"
   ]
  },
  {
   "cell_type": "markdown",
   "id": "8c00f3c2-c767-4d1e-ba57-c7c39cecb4c6",
   "metadata": {},
   "source": [
    "ANALOGIES:  \n",
    "$$\\psi_i(x)  = |i> \\space ; \\space \\psi_i^*(x)= <i| \\space or \\space a(x)  = |a> \\space ; \\space  a^*(x)= <a|$$ \n",
    "The orthonormalithy conditoin can be expressed as $$ \\int_{x_1}^{x_2} \\psi_i^*(x) \\psi_j(x) dx = \\delta_{ij} $$\n",
    "$\\hat O$ Matrix representation of operator $\\mathcal{O}$ in the ${\\psi_i(x)}$ basis is **(1)**  $$ (1): \\space \\mathcal O\\psi_i(x)= \\sum_j \\psi_j(x) O_{ji} $$"
   ]
  },
  {
   "cell_type": "markdown",
   "id": "17129792-e07e-44f1-b4e0-3e98f0e59dac",
   "metadata": {
    "tags": []
   },
   "source": [
    " ### __1.15__ _\"S&O\"_  \n",
    "Start with **(1)** to show $O_{ji} = \\int{dx \\psi_j^*(x) \\hat O \\psi_i(x)}$"
   ]
  },
  {
   "cell_type": "markdown",
   "id": "cd86577b-18fe-46a0-98e1-86f9a1b201e0",
   "metadata": {},
   "source": [
    "$$ \\int{dx \\psi_j^*(x) \\hat O \\psi_i(x)} = \\int{dx \\psi_j^*(x) \\sum_k \\psi_{k}(x) O_{ki}} = \\sum_k O_{ki} \\int{dx \\psi_j^*(x) \\psi_{k}(x)} = \\sum_k O_{ki} \\delta_{jk} = O_{ji}$$\n",
    "Then, using Eqs: \n",
    "$$ \\psi_i(x) = |i> $$ \n",
    "$$ \\int dx a^*(x) \\hat O b(x) = <a|b> $$\n",
    "re-write (1) in bra-ket notation, showing it is the same as $ \\hat O |i> = \\mathbf 1 \\hat O |i> = \\sum_j |j><j|\\hat O|i> $ "
   ]
  },
  {
   "cell_type": "markdown",
   "id": "14ceb147-b49d-493c-b92e-33ef52570dbb",
   "metadata": {},
   "source": [
    "$$ \\hat O\\psi_i(x)= \\sum_j \\psi_j(x) O_{ji} = \\int{dx\\sum_j \\psi_j(x) \\psi_j^*(x) \\hat O \\psi_i(x)} =  \\sum_j |j><j|\\hat O|i> $$\n"
   ]
  },
  {
   "cell_type": "markdown",
   "id": "4978331c-29c5-4f4a-9d94-a730e22abf6f",
   "metadata": {
    "tags": []
   },
   "source": [
    " ### __1.16__ _\"S&O\"_  \n",
    " Consider the eigenvalue problem $\\mathcal{O}\\phi(x) = \\mathcal{\\omega}\\phi(x)$.  \n",
    "By expanding $\\phi(x)$ in the complete set $ { \\{ \\psi_i(x),i=1,2,...} \\} $ as $\\phi(x)= \\sum_i^{\\infty} c_i\\psi_i(x)$, \n",
    "show that it becomes equivalent to the matrix eigenvalue problem $\\mathbf{O}\\mathbf{c}={\\omega}\\mathbf{c}$,  whith $\\mathbf{c}_i = c_i$ and $ \\left( \\mathbf{O}_{ij} \\right) = \\int dx \\psi_i^*(x) \\mathcal{O} \\psi_j(x)$  \n",
    "where $\\mathbf{O}$ is an infinite matrix. To make problem maneageable we consider a complete subset of N spaces ${ \\{ \\psi_i^{(N-Dim)}(x),i=1,2,..., N} \\} $ so $\\phi(x)= \\sum_i^{N} c_i\\psi_i(x)$, leading to the $NxN$ matricial eigvalue problem         \n",
    "         ***DO IT BOTH BRAKET IN (DIRAC) AND MATRICIAL NOTATION***"
   ]
  },
  {
   "cell_type": "markdown",
   "id": "22042b19-7fc2-43c5-b0bd-77c441122f42",
   "metadata": {
    "jp-MarkdownHeadingCollapsed": true,
    "tags": []
   },
   "source": [
    "**Matrix Notation**\n",
    " Expanding the basis as a complete finite set, $$\\mathcal{O}\\phi(x) = \\mathcal{\\omega}\\phi(x)$$ $$ \\mathcal O \\sum_j c_j\\psi_j(x) = \\mathcal{\\omega} \\sum_j c_j\\psi_j(x) $$\n",
    " and taking the scalar product with $\\phi_i^*(x)$ (i.e. multiply on the left <i|):\n",
    "  $$  \\sum_{i,j} \\psi_i^*(x) \\mathcal O c_j \\psi_j(x) = \\mathcal{\\omega} \\sum_{i,j} \\psi_i^*(x) c_j \\psi_j(x) $$\n",
    " From the matrix definition $ \\left( \\mathbf{O}_{ij} \\right)$, $$ \\sum_{j} c_j \\mathbf O_{ij} = \\mathcal{\\omega} \\sum_{i,j} c_j \\delta_{ij} =  \\mathcal{\\omega} c_i $$\n",
    " "
   ]
  },
  {
   "cell_type": "markdown",
   "id": "43ae1e36-ec74-49f8-ac48-e90c9189d173",
   "metadata": {
    "jp-MarkdownHeadingCollapsed": true,
    "tags": []
   },
   "source": [
    "**Dirac's Notation**\n",
    " Expanding the basis as a complete finite set, $$\\mathcal{O} \\sum_i c_i |i> = \\mathcal{\\omega} \\sum_i c_i |i>$$ \n",
    " and taking the scalar product with $<j|$:\n",
    "  $$  \\sum_{i} c_i <j|\\mathcal O|i> = \\mathcal{\\omega} \\sum_{i} c_i <j|i> = \\mathcal{\\omega} \\sum_{i} c_i \\delta_{ji}= \\mathcal{\\omega} c_j $$ "
   ]
  },
  {
   "cell_type": "markdown",
   "id": "f400c734-f490-4c9a-b0ba-bde848a8a798",
   "metadata": {
    "tags": []
   },
   "source": [
    "# Postulates"
   ]
  },
  {
   "cell_type": "markdown",
   "id": "91011edb-607c-4f7e-bcd6-630046b29725",
   "metadata": {
    "tags": []
   },
   "source": [
    "### __2.26&2.28&2.29&2.37&2.39__ _\"P&A\"_  \n",
    "H atom in state $\\Psi$ described as a LC of the $\\Phi$ orthonormal eigenfunctions of $\\hat{\\mathcal{H}}$ with eigenvalues $E_n = -\\frac{cnt}{n^2}$ **$$|\\Psi> = \\frac{1}{2} |\\Phi_{1,1}> + \\frac{1}{2} |\\Phi_{2,1}> + \\frac{1}{\\sqrt6} |\\Phi_{2,2}> + \\frac{1}{\\sqrt6} |\\Phi_{2,4}> - \\frac{1}{\\sqrt6} |\\Phi_{3,1}>$$**\n",
    "1) Show that $\\Phi$ is normalized\n",
    "2) plot the discrete probability distribution for the possible energy measurements (Probability $E_n$)?\n",
    "3) Is it an stationary state? Write the wf describing $\\Psi_t$ for $t>0$ on the $t\\in[0,t]$ interval\n",
    "4) Write $\\Psi_t$ describing the wf just after measuring energy at the time $t$ if:  \n",
    "a) $<E>_{\\Psi_t}= E_1$  \n",
    "b) $<E>_{\\Psi_t}= E_2$ and  \n",
    "c) $<E>_{\\Psi_t}= E_3$  \n",
    "d) Knowing that all the internal energies for a n level are degenerated by $d_n=n^2$, indicate on which of the a),b), c) states is independent of the initial state, i.e. $\\Psi_t \\neq \\mathcal{f} (\\Psi_0)$\n",
    "5) A second measure at $ t_2 > t$ is done. Write the wavefunction $\\Psi_{t_2}$ if the measure at $t$ result in   \n",
    "a) the energy $E_1$. Is it a stationary state?  \n",
    "b) the energy $E_2$. Is it a stationary state?  "
   ]
  },
  {
   "cell_type": "markdown",
   "id": "b95d3bab-5df6-4da1-91ea-c7b8e849f9c5",
   "metadata": {
    "tags": []
   },
   "source": [
    "##### Sol1)\n",
    "Normalization means there is full probability of finding e- in one of those states for all space, and since $P(\\hat A \\rightarrow a_i ) = \\sum_i |c_i|^2 <i|i> = \\sum_i |c_i|^2 $: $$P(\\hat H \\rightarrow E_1 ) = |c_1|^2 \\newline \n",
    "P(\\hat H \\rightarrow E_3 ) =  \\sum_{k_n} |c_{2,k_n}|^2 \\newline\n",
    "P(\\hat H \\rightarrow E_3 ) =  |c_3|^2 $$"
   ]
  },
  {
   "cell_type": "code",
   "execution_count": 12,
   "id": "4e902ae7-92b8-43f3-aae3-aba13a359eba",
   "metadata": {
    "jupyter": {
     "source_hidden": true
    },
    "tags": []
   },
   "outputs": [
    {
     "data": {
      "image/png": "[encoded data removed]",
      "text/latex": [
       "$\\displaystyle \\frac{\\Psi_{11}^{2}}{4} + \\frac{\\Psi_{21}^{2}}{4} + \\frac{\\Psi_{22}^{2}}{6} + \\frac{\\Psi_{24}^{2}}{6} + \\frac{\\Psi_{31}^{2}}{6}$"
      ],
      "text/plain": [
       "   2      2      2      2      2\n",
       "Ψ₁₁    Ψ₂₁    Ψ₂₂    Ψ₂₄    Ψ₃₁ \n",
       "──── + ──── + ──── + ──── + ────\n",
       " 4      4      6      6      6  "
      ]
     },
     "metadata": {},
     "output_type": "display_data"
    },
    {
     "data": {
      "text/plain": [
       "'where psi_i^2=1, so sum c_i s='"
      ]
     },
     "metadata": {},
     "output_type": "display_data"
    },
    {
     "data": {
      "image/png": "[encoded data removed]",
      "text/latex": [
       "$\\displaystyle 1$"
      ],
      "text/plain": [
       "1"
      ]
     },
     "metadata": {},
     "output_type": "display_data"
    }
   ],
   "source": [
    "psi_11, psi_21, psi_22, psi_24, psi_31, k = smp.symbols('Psi_11 Psi_21 Psi_22 Psi_24 Psi_31 k')\n",
    "phitot= (smp.Rational(1,2)*psi_11)**2 + (smp.Rational(1,2)*psi_21)**2 + (1/(smp.sqrt(6))*psi_22)**2 + (1/(smp.sqrt(6))*psi_24)**2 + (-1/(smp.sqrt(6))*psi_31)**2\n",
    "display(phitot, 'where psi_i^2=1, so sum c_i s=')\n",
    "display(phitot.subs({(psi_11,1), (psi_22,1), (psi_21,1), (psi_24,1), (psi_31,1)}))"
   ]
  },
  {
   "cell_type": "markdown",
   "id": "1f1fdb1a-7996-4a54-993c-6df46a10d536",
   "metadata": {
    "tags": []
   },
   "source": [
    "##### Sol2)"
   ]
  },
  {
   "cell_type": "code",
   "execution_count": 13,
   "id": "c1b2fce7-0a69-47da-a337-30fc9dc099d5",
   "metadata": {
    "jupyter": {
     "source_hidden": true
    },
    "tags": []
   },
   "outputs": [
    {
     "data": {
      "image/png": "[encoded data removed]",
      "text/plain": [
       "<Figure size 640x480 with 1 Axes>"
      ]
     },
     "metadata": {},
     "output_type": "display_data"
    },
    {
     "name": "stdout",
     "output_type": "stream",
     "text": [
      "E_ 1 = -1.0 wiith prob P= 0.25\n",
      "E_ 2 = -0.25 wiith prob P= 0.5833333333333333\n",
      "E_ 3 = -0.1111111111111111 wiith prob P= 0.1666666666666667\n",
      "E_ 4 = -0.0625 wiith prob P= 0.0\n",
      "E_ 5 = -0.04 wiith prob P= 0.0\n"
     ]
    }
   ],
   "source": [
    "def En(n):\n",
    "    return -1/n**2\n",
    "Ens=[]\n",
    "for i in range(1,6):\n",
    "    Ens.append(En(i))\n",
    "probs= np.zeros(5)\n",
    "probs[0] = 1/2**2\n",
    "probs[2] = (1/np.sqrt(6))**2\n",
    "probs[1] = 1 - probs.sum()\n",
    "plt.plot(np.array(Ens), probs, 'D--', markersize='7',  label='P(E->E_i) vs E_i at cnt=1')\n",
    "plt.legend()\n",
    "plt.show()\n",
    "for i in range(0,5):\n",
    "    print('E_', i+1, '=', Ens[i], 'wiith prob P=', probs[i])"
   ]
  },
  {
   "cell_type": "markdown",
   "id": "0058d789-f1ab-4855-b517-a77382720e23",
   "metadata": {
    "tags": []
   },
   "source": [
    "##### Sol3)\n",
    "The normalized $\\Psi$ state is not stationary because before collapsing into a determined one, 3 differeent eigenvalues of energy are available for this operator's function.  \n",
    "Hence, $<\\hat H>_{\\Psi_t}$ depends on time (or strictly at the specific time the system collapse) since the values of $E_1, E_2,E_3 $ can be obtained with a specific probability each one. Hence the Hamiltonian is not an eigenfunction of $\\Psi$.  \n",
    "This occurs due the wavefunction's $\\Psi_t(x;t)$ describing the eigenstate between $t\\in[0,t]$ on the TDSE equation:\n",
    "$$ i\\hbar \\frac{d \\Psi_t(x;t)}{dx} = \\hat H \\Psi_t(x;t) \\space ; \\newline \\Psi_t(x;t) = \\sum_{n, \\{k_n\\}} c_{n,k_n} e^{-iE_nt/\\hbar} \\Phi_{n,k_n} = \n",
    "\\frac{e^{-iE_1t/\\hbar}}{2} \\Phi_{1,1} + \\frac{e^{-iE_2t/\\hbar}}{2} \\Phi_{2,1}  + \\frac{e^{-iE_2t/\\hbar}}{\\sqrt6} \\Phi_{2,2}  + \\frac{e^{-iE_2t/\\hbar}}{\\sqrt6} \\Phi_{2,4} - \\frac{e^{-iE_3t/\\hbar}}{\\sqrt6} \\Phi_{3,1}$$\n",
    "Note that $\\sum_{n, \\{k_n\\}}$ stands for the fact that for each eigenstate with n quantum number, there be can a set of $k_n$ states participating in the LC $\\Phi_{n,k_n} = \\sum_{k_n} c_{k_n} \\Phi_{n,k_n}$."
   ]
  },
  {
   "cell_type": "markdown",
   "id": "a4590e8d-6abe-4e42-acda-7396a9be11a4",
   "metadata": {
    "tags": []
   },
   "source": [
    "##### Sol4)\n",
    "We find $\\Psi^{^{'n'}}_t$ such that $<\\hat H>_{\\Psi^{^{'n'}}_{t}} = E_n$.  \n",
    "**a)** $$\\hat H \\Psi_t = E_1 \\Psi_t = E_1 \\Phi_{1,1} = \\hat H \\Phi_{1,1}$$ **c)** $$\\hat H \\Psi_t = E_3 \\Psi_t = E_3 \\Phi_{3,1} = - \\hat H \\Phi_{3,1}$$\n",
    "**d)** Since only 1 $n_k$ possible value for $n=1,3$, TISE and only 1 $\\Phi$ on the LC to form $\\Psi$ and hence $c_{n=1,3; \\{k_{n=1,3}=1\\}} = 1$. a) and c) are independent of the initial state.  \n",
    "By contrast, for $n=2$ we have $k_2 = \\{1,2,4\\}$ and hence the $\\Phi_2$ set of functions has te be renormalized, depending on the previous coefficients and depending on the initial state.   \n",
    "**b)** $$\\hat H \\Psi_t = E_2 \\Psi_t = E_2 \\left( N_{renorm} \\left[\\frac{1}{2}\\Phi_{2,1} + \\frac{1}{\\sqrt6}\\Phi_{2,2} + \\frac{1}{\\sqrt6}\\Phi_{2,4} \\right] \\right)  = \\hat H \\Phi_{2, \\{ 1,2,4 \\}}$$\n",
    "Hence $$ \\Phi_{2, \\{ 1,2,4 \\}} = \\sqrt{\\frac{3}{7}}\\Phi_{2,1} + \\sqrt{\\frac{2}{7}}\\Phi_{2,2} + \\sqrt{\\frac{2}{7}}\\Phi_{2,4} $$"
   ]
  },
  {
   "cell_type": "code",
   "execution_count": 20,
   "id": "175cdf6c-5df2-4a6c-958c-0a6d501c939b",
   "metadata": {
    "tags": []
   },
   "outputs": [
    {
     "data": {
      "text/plain": [
       "'With N_renorn^2 ='"
      ]
     },
     "metadata": {},
     "output_type": "display_data"
    },
    {
     "data": {
      "image/png": "[encoded data removed]",
      "text/latex": [
       "$\\displaystyle \\left[ \\frac{12}{7}\\right]$"
      ],
      "text/plain": [
       "[12/7]"
      ]
     },
     "metadata": {},
     "output_type": "display_data"
    }
   ],
   "source": [
    "N = smp.symbols('N')\n",
    "display('With N_renorn^2 =')\n",
    "N2=smp.solve(1-(N**2*(smp.Rational(1,2)**2 + 2*((1/smp.sqrt(6))**2))), N**2)\n",
    "display(N2)"
   ]
  },
  {
   "cell_type": "markdown",
   "id": "8baa74f9-d83d-4f1a-8ca0-b4f0284944dd",
   "metadata": {
    "jp-MarkdownHeadingCollapsed": true,
    "tags": []
   },
   "source": [
    "##### Sol5) \n",
    "**a)** \n",
    "$$ \\Psi_{t_2}(x;t_2) = e^{-iE_1t_2/\\hbar} \\Phi_{1,1} $$\n",
    "**b)**\n",
    "$$ \\Psi_{t_2}(x;t_2) = e^{-iE_2t_2/\\hbar} \\Phi_{2,\\{1,2,4\\}} $$\n",
    "  BOTH ARE STATIONARY STATES"
   ]
  },
  {
   "cell_type": "markdown",
   "id": "a9f373c5-4d95-4295-ae84-e87c6618ad3f",
   "metadata": {
    "tags": []
   },
   "source": [
    "# Variational principle and linear variational problem\n",
    "a more algebraic approach instead than optimizing parameters on the wf to minimize the upper-bound energy given by the variational integral with the optimized parameter.  \n",
    "This second type of exercises in the part in the second part"
   ]
  },
  {
   "cell_type": "markdown",
   "id": "10988fff-da93-4449-aab0-43d4a9aa3627",
   "metadata": {
    "tags": []
   },
   "source": [
    "### **1.21** _\"S&O\"_ \n",
    "Consider a normalized trial function $|\\tilde \\Phi'>$ orthogonal to the _exact_ GS wf, i.e. $<\\tilde \\Phi'|\\Phi_0> = 0$   "
   ]
  },
  {
   "cell_type": "markdown",
   "id": "d72d4be4-ebb1-4e33-8509-3a424b1b1288",
   "metadata": {
    "tags": []
   },
   "source": [
    "#### 1) Generalize the proof of variational principle to show that  $<\\tilde \\Phi'|\\mathcal{\\hat H}| \\tilde \\Phi'>  \\geq \\mathcal{E}_1$"
   ]
  },
  {
   "cell_type": "markdown",
   "id": "e3a52b99-6e12-4266-a927-64386ce7efee",
   "metadata": {},
   "source": [
    "$$<\\tilde \\Phi'| \\tilde \\Phi'> = \\sum_{\\alpha=0,\\beta=0}^{\\infty, \\infty} <\\tilde \\Phi'| \\tilde \\Phi_{\\alpha}><\\tilde \\Phi_{\\alpha} | \\tilde \\Phi_{\\beta}><\\tilde \\Phi_{\\beta} |\\tilde \\Phi'> = \\sum_{\\alpha=0,\\beta=0}^{\\infty, \\infty} <\\tilde \\Phi'| \\tilde \\Phi_{\\alpha}><\\tilde \\Phi_{\\beta} |\\tilde \\Phi'> \\delta_{\\alpha,\\beta} = \\sum_{\\alpha=0}^{\\infty} |<\\tilde \\Phi_{\\alpha} |\\tilde \\Phi'>|^2= 1$$\n",
    "Since $<\\tilde \\Phi'|\\Phi_0> = 0$, $$\\sum_{\\alpha=1}^{\\infty} <\\tilde \\Phi_{\\alpha} |\\tilde \\Phi'> = 1$$\n",
    "Hence: $$ <\\tilde \\Phi'|\\mathcal{\\hat H}| \\tilde \\Phi'> = \\sum_{\\alpha,\\beta} <\\tilde \\Phi'| \\tilde \\Phi_{\\alpha}><\\tilde \\Phi_{\\alpha} | \\mathcal{\\hat H}| \\tilde \\Phi_{\\beta}><\\tilde \\Phi_{\\beta} |\\tilde \\Phi'> = $$ \n",
    "$$ \\sum_{\\alpha,\\beta}<\\tilde \\Phi'| \\tilde \\Phi_{\\alpha}>\\mathcal{E}_{\\alpha} \\delta_{\\alpha \\beta}<\\tilde \\Phi_{\\beta} |\\tilde \\Phi'> = \\sum_{\\alpha,\\beta} \\mathcal{E}_{\\alpha}  <\\tilde \\Phi'| \\tilde \\Phi_{\\alpha}>\\delta_{\\alpha \\beta}<\\tilde \\Phi_{\\beta} |\\tilde \\Phi'>  = $$ \n",
    "$$\\sum_{\\alpha=1} \\mathcal{E}_{\\alpha}   |<\\tilde \\Phi_{\\alpha} |\\tilde \\Phi'> |^2 $$\n",
    "So as $\\alpha = 1, 2, ..., N (\\infty) \\rightarrow \\mathcal{E}_{\\alpha} \\geq \\mathcal{E}_{1};  \\forall \\alpha$"
   ]
  },
  {
   "cell_type": "markdown",
   "id": "e08e819c-6445-4390-904e-87aaa56c90e5",
   "metadata": {
    "tags": []
   },
   "source": [
    "#### 2) Consider the function $$ | \\tilde \\Phi'> = x |\\tilde \\Phi_0> + y|\\tilde \\Phi_1>$$\n",
    "where $|\\tilde \\Phi_{\\alpha}> ; \\alpha = 0,1 $ is \n",
    "$$|\\tilde \\Phi_{\\alpha}> = \\sum_{i=1}^N c_i^{\\alpha} | \\Psi_i> = \\sum_{i=1}^N C_{i\\alpha} | \\Psi_i> \\space\\space\\space \\left( \\alpha= 0,1,..., N-1 \\right)$$ \n",
    "Show that if it is normalised $$ |x|^2 + |y|^2 = 1 $$"
   ]
  },
  {
   "cell_type": "markdown",
   "id": "9a8dd33c-a389-4973-9f69-eda10d9aa6c5",
   "metadata": {},
   "source": [
    "$$<\\tilde \\Phi'|\\tilde \\Phi'> = 1 = \\left( x |\\tilde \\Phi_0> + y|\\tilde \\Phi_1> \\right)^* \\left( x |\\tilde \\Phi_0> + y|\\tilde \\Phi_1> \\right) = $$ \n",
    "$$\\left( x^* <\\tilde \\Phi_0| + y^* <\\tilde \\Phi_1| \\right) \\left( x |\\tilde \\Phi_0> + y|\\tilde \\Phi_1> \\right) = |x|^2 <\\tilde \\Phi_0|\\tilde \\Phi_0> + |y|^2 <\\tilde \\Phi_1|\\tilde \\Phi_1> + |x||y| \\left( <\\tilde \\Phi_0|\\tilde \\Phi_1> + <\\tilde \\Phi_1|\\tilde \\Phi_0> \\right) = x^2 + y^2  $$\n",
    "  because of orthonormality"
   ]
  },
  {
   "cell_type": "markdown",
   "id": "bf39d0a5-a0e5-4363-a09f-8e1a88d8f616",
   "metadata": {
    "tags": []
   },
   "source": [
    "#### 3) Choosing $x,y$ such that $ | \\tilde \\Phi'>$ is normalised and so $<\\tilde \\Phi'|\\tilde \\Phi_{0} = 0$, from 1st part follows that $<\\tilde \\Phi'|\\mathcal{\\hat H}| \\tilde \\Phi'> \\space \\geq \\mathcal{E}_1$. Show:\n",
    "$$ <\\tilde \\Phi'|\\mathcal{\\hat H}| \\tilde \\Phi'> \\space = E_1 - |x|^2 \\left( E_1 - E_0 \\right) $$  \n",
    "Conclude that $ E_{1} \\geq \\mathcal{E}_{1}$ because $ E_1 \\geq E_0 $  (which may be generalized for any $ E_{\\alpha} \\geq \\mathcal{E}_{\\alpha}$)"
   ]
  },
  {
   "cell_type": "markdown",
   "id": "f5fa5ecb-bd6f-4db2-ba39-0ab128b79e4d",
   "metadata": {},
   "source": [
    "$$<\\tilde \\Phi'| \\mathcal{\\hat H}|\\tilde \\Phi'> = \\left( x |\\tilde \\Phi_0> + y|\\tilde \\Phi_1> \\right)^* \\mathcal{\\hat H} \\left( x |\\tilde \\Phi_0> + y|\\tilde \\Phi_1> \\right) = \\left( x^* <\\tilde \\Phi_0| + y^* <\\tilde \\Phi_1| \\right) \\mathcal{\\hat H} \\left( x |\\tilde \\Phi_0> + y|\\tilde \\Phi_1> \\right) =  |x|^2 <\\tilde \\Phi_0|\\mathcal{\\hat H}|\\tilde \\Phi_0> + |y|^2 <\\tilde \\Phi_1|\\mathcal{\\hat H}|\\tilde \\Phi_1> + |x||y| \\left( <\\tilde \\Phi_0|\\mathcal{\\hat H}|\\tilde \\Phi_1> + <\\tilde \\Phi_1|\\mathcal{\\hat H}|\\tilde \\Phi_0> \\right) = <\\tilde \\Phi'| \\mathcal{\\hat H}|\\tilde \\Phi'> =  |x|^2 E_0 + |y|^2 E_1 = |x|^2 E_0 + (1-|x|^2) E_1 = E_1 - |x|^2(E_1 - E_0) \\geq \\mathcal{E}_1$$"
   ]
  },
  {
   "cell_type": "markdown",
   "id": "8875c7e7-713b-40fc-bb73-3db19b74872d",
   "metadata": {
    "tags": []
   },
   "source": [
    "### **1.20** _\"S&O\"_ \n",
    "Variational principle as applied to the matrix eigenvalue problem states that if $\\mathbf c$ is a normalized column vector ($\\mathbf c^{\\dagger} \\mathbf c$), then ($\\mathbf c^{\\dagger} \\mathbf O \\mathbf c \\geq \\omega_{min}$ of $\\mathbf O$). For the 2x2 symmetric ($O_{12} = O_{21}$):   $\\mathbf O = \\begin{bmatrix} O_{11} & O_{12} \\\\ O_{21} & O_{22} \\end{bmatrix}$\n",
    "Consider the trial vector $\\mathbf c = \\begin{bmatrix} cos(\\theta) \\\\ sin(\\theta) \\end{bmatrix}$ normalized for any $\\theta$ to calculate $\\omega (\\theta ) = \\mathbf c^{\\dagger} \\mathbf O \\mathbf c$. \n",
    "Find $\\theta$ for which $\\omega (\\theta )$ is a minimum. Realize that c is the exact 1st eigenvector of O"
   ]
  },
  {
   "cell_type": "code",
   "execution_count": 15,
   "id": "93c6ae2f-064c-4948-a748-148199f926ec",
   "metadata": {
    "tags": []
   },
   "outputs": [
    {
     "data": {
      "text/plain": [
       "'w1='"
      ]
     },
     "metadata": {},
     "output_type": "display_data"
    },
    {
     "data": {
      "image/png": "[encoded data removed]",
      "text/latex": [
       "$\\displaystyle O_{11} \\cos^{2}{\\left(\\theta \\right)} + 2 O_{12} \\sin{\\left(\\theta \\right)} \\cos{\\left(\\theta \\right)} + O_{22} \\sin^{2}{\\left(\\theta \\right)}$"
      ],
      "text/plain": [
       "       2                                   2   \n",
       "O₁₁⋅cos (θ) + 2⋅O₁₂⋅sin(θ)⋅cos(θ) + O₂₂⋅sin (θ)"
      ]
     },
     "metadata": {},
     "output_type": "display_data"
    },
    {
     "data": {
      "text/plain": [
       "'d(w1)/dtheta='"
      ]
     },
     "metadata": {},
     "output_type": "display_data"
    },
    {
     "data": {
      "image/png": "[encoded data removed]",
      "text/latex": [
       "$\\displaystyle - 2 O_{11} \\sin{\\left(\\theta \\right)} \\cos{\\left(\\theta \\right)} - 2 O_{12} \\sin^{2}{\\left(\\theta \\right)} + 2 O_{12} \\cos^{2}{\\left(\\theta \\right)} + 2 O_{22} \\sin{\\left(\\theta \\right)} \\cos{\\left(\\theta \\right)}$"
      ],
      "text/plain": [
       "                                2               2                         \n",
       "-2⋅O₁₁⋅sin(θ)⋅cos(θ) - 2⋅O₁₂⋅sin (θ) + 2⋅O₁₂⋅cos (θ) + 2⋅O₂₂⋅sin(θ)⋅cos(θ)"
      ]
     },
     "metadata": {},
     "output_type": "display_data"
    }
   ],
   "source": [
    "theta, O11, O12, O22 = smp.symbols('theta O_11 O_12 O_22')\n",
    "c = smp.Matrix([[smp.cos(theta)], [smp.sin(theta)]])\n",
    "O = smp.Matrix([[O11, O12], [O12, O22]])\n",
    "w_ftheta = c.T * O * c\n",
    "#smp.solve(O11*smp.cos(theta)**2 + 2*O12*smp.cos(theta)*smp.sin(theta) + O22*smp.sin(theta)**2, theta)\n",
    "w_ftheta_simp= O11*(smp.cos(theta))**2 + 2*O12*smp.cos(theta)*smp.sin(theta) + O22*(smp.sin(theta))**2\n",
    "display('w1=', w_ftheta_simp)\n",
    "display('d(w1)/dtheta=', smp.diff(w_ftheta_simp, theta))"
   ]
  },
  {
   "cell_type": "code",
   "execution_count": 16,
   "id": "5f7d3973-2a61-4886-90fe-45e9f20f2f7d",
   "metadata": {
    "tags": []
   },
   "outputs": [
    {
     "data": {
      "text/plain": [
       "'w0='"
      ]
     },
     "metadata": {},
     "output_type": "display_data"
    },
    {
     "data": {
      "image/png": "[encoded data removed]",
      "text/latex": [
       "$\\displaystyle \\operatorname{atan}{\\left(\\frac{- O_{11} + O_{22} + \\sqrt{O_{11}^{2} - 2 O_{11} O_{22} + 4 O_{12}^{2} + O_{22}^{2}}}{2 O_{12}} \\right)}$"
      ],
      "text/plain": [
       "    ⎛                __________________________________⎞\n",
       "    ⎜               ╱    2                    2      2 ⎟\n",
       "    ⎜-O₁₁ + O₂₂ + ╲╱  O₁₁  - 2⋅O₁₁⋅O₂₂ + 4⋅O₁₂  + O₂₂  ⎟\n",
       "atan⎜──────────────────────────────────────────────────⎟\n",
       "    ⎝                      2⋅O₁₂                       ⎠"
      ]
     },
     "metadata": {},
     "output_type": "display_data"
    }
   ],
   "source": [
    "diff_simp = (O22-O11)*smp.sin(2*theta) + 2*O12*smp.cos(2*theta)\n",
    "display('w0=',smp.solve(diff_simp, theta)[0])"
   ]
  }
 ],
 "metadata": {
  "kernelspec": {
   "display_name": "Python 3 (ipykernel)",
   "language": "python",
   "name": "python3"
  },
  "language_info": {
   "codemirror_mode": {
    "name": "ipython",
    "version": 3
   },
   "file_extension": ".py",
   "mimetype": "text/x-python",
   "name": "python",
   "nbconvert_exporter": "python",
   "pygments_lexer": "ipython3",
   "version": "3.11.7"
  }
 },
 "nbformat": 4,
 "nbformat_minor": 5
}
